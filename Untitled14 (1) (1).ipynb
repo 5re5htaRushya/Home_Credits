{
 "cells": [
  {
   "cell_type": "code",
   "execution_count": 1,
   "metadata": {},
   "outputs": [],
   "source": [
    "import numpy as np\n",
    "import pandas as pd\n",
    "from sklearn.preprocessing import LabelEncoder\n",
    "\n",
    "import matplotlib.pyplot as plt\n",
    "import seaborn as sns"
   ]
  },
  {
   "cell_type": "code",
   "execution_count": 2,
   "metadata": {},
   "outputs": [],
   "source": [
    "application_train=pd.read_csv('C:/Users/DARK KNIGHT/Desktop/project/all/application_train.csv')"
   ]
  },
  {
   "cell_type": "code",
   "execution_count": 3,
   "metadata": {},
   "outputs": [
    {
     "name": "stdout",
     "output_type": "stream",
     "text": [
      "positive correlations:\n",
      " FLAG_MOBIL                     0.000534\n",
      "AMT_REQ_CREDIT_BUREAU_WEEK     0.000788\n",
      "AMT_REQ_CREDIT_BUREAU_HOUR     0.000930\n",
      "AMT_REQ_CREDIT_BUREAU_DAY      0.002704\n",
      "LIVE_REGION_NOT_WORK_REGION    0.002819\n",
      "FLAG_DOCUMENT_21               0.003709\n",
      "FLAG_DOCUMENT_2                0.005417\n",
      "REG_REGION_NOT_LIVE_REGION     0.005576\n",
      "REG_REGION_NOT_WORK_REGION     0.006942\n",
      "OBS_60_CNT_SOCIAL_CIRCLE       0.009022\n",
      "OBS_30_CNT_SOCIAL_CIRCLE       0.009131\n",
      "CNT_FAM_MEMBERS                0.009308\n",
      "CNT_CHILDREN                   0.019187\n",
      "AMT_REQ_CREDIT_BUREAU_YEAR     0.019930\n",
      "FLAG_WORK_PHONE                0.028524\n",
      "DEF_60_CNT_SOCIAL_CIRCLE       0.031276\n",
      "DEF_30_CNT_SOCIAL_CIRCLE       0.032248\n",
      "LIVE_CITY_NOT_WORK_CITY        0.032518\n",
      "OWN_CAR_AGE                    0.037612\n",
      "DAYS_REGISTRATION              0.041975\n",
      "FLAG_DOCUMENT_3                0.044346\n",
      "REG_CITY_NOT_LIVE_CITY         0.044395\n",
      "FLAG_EMP_PHONE                 0.045982\n",
      "REG_CITY_NOT_WORK_CITY         0.050994\n",
      "DAYS_ID_PUBLISH                0.051457\n",
      "DAYS_LAST_PHONE_CHANGE         0.055218\n",
      "REGION_RATING_CLIENT           0.058899\n",
      "REGION_RATING_CLIENT_W_CITY    0.060893\n",
      "DAYS_BIRTH                     0.078239\n",
      "TARGET                         1.000000\n",
      "Name: TARGET, dtype: float64\n",
      "\n",
      "negative correlations:\n",
      " EXT_SOURCE_3                 -0.178919\n",
      "EXT_SOURCE_2                 -0.160472\n",
      "EXT_SOURCE_1                 -0.155317\n",
      "DAYS_EMPLOYED                -0.044932\n",
      "FLOORSMAX_AVG                -0.044003\n",
      "FLOORSMAX_MEDI               -0.043768\n",
      "FLOORSMAX_MODE               -0.043226\n",
      "AMT_GOODS_PRICE              -0.039645\n",
      "REGION_POPULATION_RELATIVE   -0.037227\n",
      "ELEVATORS_AVG                -0.034199\n",
      "ELEVATORS_MEDI               -0.033863\n",
      "FLOORSMIN_AVG                -0.033614\n",
      "FLOORSMIN_MEDI               -0.033394\n",
      "LIVINGAREA_AVG               -0.032997\n",
      "LIVINGAREA_MEDI              -0.032739\n",
      "FLOORSMIN_MODE               -0.032698\n",
      "TOTALAREA_MODE               -0.032596\n",
      "ELEVATORS_MODE               -0.032131\n",
      "LIVINGAREA_MODE              -0.030685\n",
      "AMT_CREDIT                   -0.030369\n",
      "APARTMENTS_AVG               -0.029498\n",
      "APARTMENTS_MEDI              -0.029184\n",
      "FLAG_DOCUMENT_6              -0.028602\n",
      "APARTMENTS_MODE              -0.027284\n",
      "LIVINGAPARTMENTS_AVG         -0.025031\n",
      "LIVINGAPARTMENTS_MEDI        -0.024621\n",
      "HOUR_APPR_PROCESS_START      -0.024166\n",
      "FLAG_PHONE                   -0.023806\n",
      "LIVINGAPARTMENTS_MODE        -0.023393\n",
      "BASEMENTAREA_AVG             -0.022746\n",
      "Name: TARGET, dtype: float64\n"
     ]
    }
   ],
   "source": [
    "correlations = application_train.corr()['TARGET'].sort_values()\n",
    "\n",
    "print('positive correlations:\\n', correlations.tail(30))\n",
    "print('\\nnegative correlations:\\n', correlations.head(30))"
   ]
  },
  {
   "cell_type": "code",
   "execution_count": 4,
   "metadata": {},
   "outputs": [],
   "source": [
    "labelencoder=LabelEncoder()\n",
    "\n",
    "for col in application_train:\n",
    "    if application_train[col].dtype == 'object':\n",
    "        if len(list(application_train[col].unique())) <= 2:\n",
    "            labelencoder.fit_transform(application_train[col])"
   ]
  },
  {
   "cell_type": "code",
   "execution_count": 5,
   "metadata": {},
   "outputs": [
    {
     "name": "stdout",
     "output_type": "stream",
     "text": [
      "246\n"
     ]
    }
   ],
   "source": [
    "application_train = pd.get_dummies(application_train)\n",
    "print(len(application_train.columns))"
   ]
  },
  {
   "cell_type": "code",
   "execution_count": 6,
   "metadata": {},
   "outputs": [
    {
     "name": "stdout",
     "output_type": "stream",
     "text": [
      "positive correlations:\n",
      " AMT_REQ_CREDIT_BUREAU_YEAR                           0.019930\n",
      "FLAG_OWN_CAR_N                                       0.021851\n",
      "NAME_FAMILY_STATUS_Civil marriage                    0.022496\n",
      "ORGANIZATION_TYPE_Business Entity Type 3             0.023993\n",
      "NAME_FAMILY_STATUS_Single / not married              0.026518\n",
      "OCCUPATION_TYPE_Low-skill Laborers                   0.027591\n",
      "FLAG_WORK_PHONE                                      0.028524\n",
      "ORGANIZATION_TYPE_Self-employed                      0.029139\n",
      "NAME_HOUSING_TYPE_With parents                       0.029966\n",
      "OCCUPATION_TYPE_Drivers                              0.030303\n",
      "NAME_CONTRACT_TYPE_Cash loans                        0.030896\n",
      "DEF_60_CNT_SOCIAL_CIRCLE                             0.031276\n",
      "DEF_30_CNT_SOCIAL_CIRCLE                             0.032248\n",
      "LIVE_CITY_NOT_WORK_CITY                              0.032518\n",
      "OWN_CAR_AGE                                          0.037612\n",
      "DAYS_REGISTRATION                                    0.041975\n",
      "OCCUPATION_TYPE_Laborers                             0.043019\n",
      "FLAG_DOCUMENT_3                                      0.044346\n",
      "REG_CITY_NOT_LIVE_CITY                               0.044395\n",
      "FLAG_EMP_PHONE                                       0.045982\n",
      "NAME_EDUCATION_TYPE_Secondary / secondary special    0.049824\n",
      "REG_CITY_NOT_WORK_CITY                               0.050994\n",
      "DAYS_ID_PUBLISH                                      0.051457\n",
      "CODE_GENDER_M                                        0.054713\n",
      "DAYS_LAST_PHONE_CHANGE                               0.055218\n",
      "NAME_INCOME_TYPE_Working                             0.057481\n",
      "REGION_RATING_CLIENT                                 0.058899\n",
      "REGION_RATING_CLIENT_W_CITY                          0.060893\n",
      "DAYS_BIRTH                                           0.078239\n",
      "TARGET                                               1.000000\n",
      "Name: TARGET, dtype: float64\n",
      "\n",
      "negative correlations:\n",
      " EXT_SOURCE_3                           -0.178919\n",
      "EXT_SOURCE_2                           -0.160472\n",
      "EXT_SOURCE_1                           -0.155317\n",
      "NAME_EDUCATION_TYPE_Higher education   -0.056593\n",
      "CODE_GENDER_F                          -0.054704\n",
      "NAME_INCOME_TYPE_Pensioner             -0.046209\n",
      "ORGANIZATION_TYPE_XNA                  -0.045987\n",
      "DAYS_EMPLOYED                          -0.044932\n",
      "FLOORSMAX_AVG                          -0.044003\n",
      "FLOORSMAX_MEDI                         -0.043768\n",
      "FLOORSMAX_MODE                         -0.043226\n",
      "EMERGENCYSTATE_MODE_No                 -0.042201\n",
      "HOUSETYPE_MODE_block of flats          -0.040594\n",
      "AMT_GOODS_PRICE                        -0.039645\n",
      "REGION_POPULATION_RELATIVE             -0.037227\n",
      "ELEVATORS_AVG                          -0.034199\n",
      "ELEVATORS_MEDI                         -0.033863\n",
      "FLOORSMIN_AVG                          -0.033614\n",
      "FLOORSMIN_MEDI                         -0.033394\n",
      "WALLSMATERIAL_MODE_Panel               -0.033119\n",
      "LIVINGAREA_AVG                         -0.032997\n",
      "LIVINGAREA_MEDI                        -0.032739\n",
      "FLOORSMIN_MODE                         -0.032698\n",
      "TOTALAREA_MODE                         -0.032596\n",
      "ELEVATORS_MODE                         -0.032131\n",
      "NAME_CONTRACT_TYPE_Revolving loans     -0.030896\n",
      "LIVINGAREA_MODE                        -0.030685\n",
      "AMT_CREDIT                             -0.030369\n",
      "APARTMENTS_AVG                         -0.029498\n",
      "APARTMENTS_MEDI                        -0.029184\n",
      "Name: TARGET, dtype: float64\n"
     ]
    }
   ],
   "source": [
    "correlations = application_train.corr()['TARGET'].sort_values()\n",
    "\n",
    "print('positive correlations:\\n', correlations.tail(30))\n",
    "print('\\nnegative correlations:\\n', correlations.head(30))"
   ]
  },
  {
   "cell_type": "code",
   "execution_count": null,
   "metadata": {},
   "outputs": [],
   "source": [
    "application_train.fillna(-999, inplace = True)\n",
    "from sklearn.ensemble import RandomForestClassifier\n",
    "rf=RandomForestClassifier(n_estimators=50, max_depth=8, min_samples_leaf=4, max_features=0.5, random_state=2018)\n",
    "appli_train=application_train.drop(['SK_ID_CURR', 'TARGET'],axis=1)\n",
    "rf.fit(appli_train,application_train.TARGET)\n",
    "features=appli_train.columns.values\n"
   ]
  },
  {
   "cell_type": "code",
   "execution_count": null,
   "metadata": {},
   "outputs": [],
   "source": [
    "length=len(features)\n",
    "for i in range(length):\n",
    "    print(rf.feature_importances_[i], features[i])"
   ]
  },
  {
   "cell_type": "code",
   "execution_count": null,
   "metadata": {},
   "outputs": [],
   "source": [
    "list_of_tuples = list(zip(features, rf.feature_importances_ ))\n",
    "imp = pd.DataFrame(list_of_tuples, columns = ['Features', 'Importance'])\n",
    "print(imp.sort_values('Importance',ascending=False))"
   ]
  }
 ],
 "metadata": {
  "kernelspec": {
   "display_name": "Python 3",
   "language": "python",
   "name": "python3"
  },
  "language_info": {
   "codemirror_mode": {
    "name": "ipython",
    "version": 3
   },
   "file_extension": ".py",
   "mimetype": "text/x-python",
   "name": "python",
   "nbconvert_exporter": "python",
   "pygments_lexer": "ipython3",
   "version": "3.7.3"
  }
 },
 "nbformat": 4,
 "nbformat_minor": 2
}
