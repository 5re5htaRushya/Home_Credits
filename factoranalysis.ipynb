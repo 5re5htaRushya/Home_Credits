{
 "cells": [
  {
   "cell_type": "code",
   "execution_count": 11,
   "metadata": {},
   "outputs": [],
   "source": [
    "import pandas as pd\n",
    "import numpy as np\n",
    "import matplotlib.pyplot as plt\n",
    "import seaborn as sns"
   ]
  },
  {
   "cell_type": "code",
   "execution_count": 2,
   "metadata": {},
   "outputs": [],
   "source": [
    "train=pd.read_csv(\"C:/Users/ZMHD022/Desktop/home_credit/application.csv\")"
   ]
  },
  {
   "cell_type": "code",
   "execution_count": 3,
   "metadata": {},
   "outputs": [
    {
     "data": {
      "text/plain": [
       "appl_id            0.000000\n",
       "loan_type          0.000000\n",
       "gender             0.000000\n",
       "own_car            0.000000\n",
       "own_realty         0.000000\n",
       "tot_child          0.000000\n",
       "tot_income         0.000000\n",
       "cr_amt             0.000000\n",
       "amt_annuity        0.010105\n",
       "goods_amt          0.000281\n",
       "suite_type         0.618379\n",
       "income_type        0.000000\n",
       "edu_level          0.000000\n",
       "family_status      0.000000\n",
       "housing_type       0.000000\n",
       "pop_density        0.000000\n",
       "birth_cnt          0.000000\n",
       "emp_cnt           18.146603\n",
       "reg_days           0.000000\n",
       "id_publish_cnt     0.000000\n",
       "car_age           66.031539\n",
       "m_phone            0.000000\n",
       "e_phone            0.000000\n",
       "w_phone            0.000000\n",
       "phone_valid        0.000000\n",
       "phone              0.000000\n",
       "email              0.000000\n",
       "occupation        31.437121\n",
       "family_cnt         0.000561\n",
       "crr                0.000000\n",
       "                    ...    \n",
       "fond_b            68.235585\n",
       "housetype_b       49.940773\n",
       "tot_area_b        48.014899\n",
       "wall_mat_b        50.591432\n",
       "emergency_b       47.147260\n",
       "obs_30             0.294734\n",
       "def_30             0.294734\n",
       "obs_60             0.294734\n",
       "def_60             0.294734\n",
       "last_ph            0.000281\n",
       "cr_hour           13.352271\n",
       "cr_day            13.352271\n",
       "cr_week           13.352271\n",
       "cr_mon            13.352271\n",
       "cr_qrt            13.352271\n",
       "cr_year           13.352271\n",
       "apt               72.702342\n",
       "barea             79.452582\n",
       "expulsion          6.415647\n",
       "build             66.330764\n",
       "com_area          84.772943\n",
       "elevator          89.417663\n",
       "entrance          72.351468\n",
       "floor_max         80.148433\n",
       "floor_min         82.474021\n",
       "land_area         80.212152\n",
       "l_apt             82.427987\n",
       "l_area            72.288311\n",
       "nonl_apt          92.956711\n",
       "nonl_area         85.778405\n",
       "Length: 73, dtype: float64"
      ]
     },
     "execution_count": 3,
     "metadata": {},
     "output_type": "execute_result"
    }
   ],
   "source": [
    "train.isnull().sum()/len(train)*100"
   ]
  },
  {
   "cell_type": "code",
   "execution_count": 9,
   "metadata": {},
   "outputs": [],
   "source": [
    "df = train[['apt','l_apt','l_area']]"
   ]
  },
  {
   "cell_type": "code",
   "execution_count": 10,
   "metadata": {},
   "outputs": [
    {
     "data": {
      "text/plain": [
       "(356254, 3)"
      ]
     },
     "execution_count": 10,
     "metadata": {},
     "output_type": "execute_result"
    }
   ],
   "source": [
    "df.shape"
   ]
  },
  {
   "cell_type": "code",
   "execution_count": 12,
   "metadata": {},
   "outputs": [
    {
     "data": {
      "image/png": "[encoded data removed]",
      "text/plain": [
       "<Figure size 432x288 with 1 Axes>"
      ]
     },
     "metadata": {
      "needs_background": "light"
     },
     "output_type": "display_data"
    }
   ],
   "source": [
    "boxplot = df.boxplot(['apt', 'l_apt', 'l_area']) "
   ]
  },
  {
   "cell_type": "code",
   "execution_count": 22,
   "metadata": {},
   "outputs": [],
   "source": [
    "# saving missing values in a variable\n",
    "a = train.isnull().sum()/len(train)*100\n",
    "# saving column names in a variable\n",
    "variables = train.columns\n",
    "variable = [ ]\n",
    "for i in range(0,73):\n",
    "    if a[i]<=90:   #setting the threshold as 20%\n",
    "        variable.append(variables[i])"
   ]
  },
  {
   "cell_type": "code",
   "execution_count": 23,
   "metadata": {},
   "outputs": [
    {
     "name": "stdout",
     "output_type": "stream",
     "text": [
      "['appl_id', 'loan_type', 'gender', 'own_car', 'own_realty', 'tot_child', 'tot_income', 'cr_amt', 'amt_annuity', 'goods_amt', 'suite_type', 'income_type', 'edu_level', 'family_status', 'housing_type', 'pop_density', 'birth_cnt', 'emp_cnt', 'reg_days', 'id_publish_cnt', 'car_age', 'm_phone', 'e_phone', 'w_phone', 'phone_valid', 'phone', 'email', 'occupation', 'family_cnt', 'crr', 'crr_city', 'day_app', 'hour_app', 'radd_pc', 'radd_pw', 'radd_cw', 'cadd_pc', 'cadd_pw', 'cadd_cw', 'org_type', 'cr_score1', 'cr_score2', 'cr_score3', 'fond_b', 'housetype_b', 'tot_area_b', 'wall_mat_b', 'emergency_b', 'obs_30', 'def_30', 'obs_60', 'def_60', 'last_ph', 'cr_hour', 'cr_day', 'cr_week', 'cr_mon', 'cr_qrt', 'cr_year', 'apt', 'barea', 'expulsion', 'build', 'com_area', 'elevator', 'entrance', 'floor_max', 'floor_min', 'land_area', 'l_apt', 'l_area', 'nonl_area']\n"
     ]
    }
   ],
   "source": [
    "print(variable)"
   ]
  },
  {
   "cell_type": "code",
   "execution_count": 24,
   "metadata": {},
   "outputs": [
    {
     "name": "stdout",
     "output_type": "stream",
     "text": [
      "Index(['appl_id', 'loan_type', 'gender', 'own_car', 'own_realty', 'tot_child',\n",
      "       'tot_income', 'cr_amt', 'amt_annuity', 'goods_amt', 'suite_type',\n",
      "       'income_type', 'edu_level', 'family_status', 'housing_type',\n",
      "       'pop_density', 'birth_cnt', 'emp_cnt', 'reg_days', 'id_publish_cnt',\n",
      "       'car_age', 'm_phone', 'e_phone', 'w_phone', 'phone_valid', 'phone',\n",
      "       'email', 'occupation', 'family_cnt', 'crr', 'crr_city', 'day_app',\n",
      "       'hour_app', 'radd_pc', 'radd_pw', 'radd_cw', 'cadd_pc', 'cadd_pw',\n",
      "       'cadd_cw', 'org_type', 'cr_score1', 'cr_score2', 'cr_score3', 'fond_b',\n",
      "       'housetype_b', 'tot_area_b', 'wall_mat_b', 'emergency_b', 'obs_30',\n",
      "       'def_30', 'obs_60', 'def_60', 'last_ph', 'cr_hour', 'cr_day', 'cr_week',\n",
      "       'cr_mon', 'cr_qrt', 'cr_year', 'apt', 'barea', 'expulsion', 'build',\n",
      "       'com_area', 'elevator', 'entrance', 'floor_max', 'floor_min',\n",
      "       'land_area', 'l_apt', 'l_area', 'nonl_apt', 'nonl_area'],\n",
      "      dtype='object')\n"
     ]
    }
   ],
   "source": [
    "print(variables)"
   ]
  },
  {
   "cell_type": "code",
   "execution_count": null,
   "metadata": {},
   "outputs": [],
   "source": []
  }
 ],
 "metadata": {
  "kernelspec": {
   "display_name": "Python 3",
   "language": "python",
   "name": "python3"
  },
  "language_info": {
   "codemirror_mode": {
    "name": "ipython",
    "version": 3
   },
   "file_extension": ".py",
   "mimetype": "text/x-python",
   "name": "python",
   "nbconvert_exporter": "python",
   "pygments_lexer": "ipython3",
   "version": "3.7.3"
  }
 },
 "nbformat": 4,
 "nbformat_minor": 2
}
