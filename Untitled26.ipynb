{
 "cells": [
  {
   "cell_type": "code",
   "execution_count": 1,
   "metadata": {},
   "outputs": [],
   "source": [
    "import pandas as pd \n",
    "import numpy as np\n",
    "import matplotlib.pyplot as plt\n",
    "import seaborn as sns\n",
    "from scipy import stats\n",
    "%matplotlib inline"
   ]
  },
  {
   "cell_type": "code",
   "execution_count": 2,
   "metadata": {},
   "outputs": [],
   "source": [
    "data = pd.read_csv('C:/Users/ZMHD022/Desktop/home_credit/only_app3.csv')"
   ]
  },
  {
   "cell_type": "code",
   "execution_count": 3,
   "metadata": {},
   "outputs": [
    {
     "data": {
      "text/html": [
       "<div>\n",
       "<style scoped>\n",
       "    .dataframe tbody tr th:only-of-type {\n",
       "        vertical-align: middle;\n",
       "    }\n",
       "\n",
       "    .dataframe tbody tr th {\n",
       "        vertical-align: top;\n",
       "    }\n",
       "\n",
       "    .dataframe thead th {\n",
       "        text-align: right;\n",
       "    }\n",
       "</style>\n",
       "<table border=\"1\" class=\"dataframe\">\n",
       "  <thead>\n",
       "    <tr style=\"text-align: right;\">\n",
       "      <th></th>\n",
       "      <th>appl_id</th>\n",
       "      <th>loan_type</th>\n",
       "      <th>gender</th>\n",
       "      <th>own_car</th>\n",
       "      <th>own_realty</th>\n",
       "      <th>tot_child</th>\n",
       "      <th>tot_income</th>\n",
       "      <th>cr_amt</th>\n",
       "      <th>amt_annuity</th>\n",
       "      <th>goods_amt</th>\n",
       "      <th>...</th>\n",
       "      <th>elevator</th>\n",
       "      <th>entrance</th>\n",
       "      <th>floor_max</th>\n",
       "      <th>floor_min</th>\n",
       "      <th>land_area</th>\n",
       "      <th>l_apt</th>\n",
       "      <th>l_area</th>\n",
       "      <th>nonl_apt</th>\n",
       "      <th>nonl_area</th>\n",
       "      <th>target</th>\n",
       "    </tr>\n",
       "  </thead>\n",
       "  <tbody>\n",
       "    <tr>\n",
       "      <th>0</th>\n",
       "      <td>339348</td>\n",
       "      <td>CL</td>\n",
       "      <td>F</td>\n",
       "      <td>N</td>\n",
       "      <td>N</td>\n",
       "      <td>0</td>\n",
       "      <td>81000</td>\n",
       "      <td>397881</td>\n",
       "      <td>20732</td>\n",
       "      <td>328500</td>\n",
       "      <td>...</td>\n",
       "      <td>NaN</td>\n",
       "      <td>NaN</td>\n",
       "      <td>NaN</td>\n",
       "      <td>NaN</td>\n",
       "      <td>NaN</td>\n",
       "      <td>NaN</td>\n",
       "      <td>NaN</td>\n",
       "      <td>NaN</td>\n",
       "      <td>NaN</td>\n",
       "      <td>0</td>\n",
       "    </tr>\n",
       "    <tr>\n",
       "      <th>1</th>\n",
       "      <td>237809</td>\n",
       "      <td>CL</td>\n",
       "      <td>F</td>\n",
       "      <td>N</td>\n",
       "      <td>Y</td>\n",
       "      <td>0</td>\n",
       "      <td>90000</td>\n",
       "      <td>284400</td>\n",
       "      <td>16011</td>\n",
       "      <td>225000</td>\n",
       "      <td>...</td>\n",
       "      <td>241.0</td>\n",
       "      <td>207.0</td>\n",
       "      <td>333.0</td>\n",
       "      <td>263.0</td>\n",
       "      <td>148.0</td>\n",
       "      <td>180.0</td>\n",
       "      <td>157.0</td>\n",
       "      <td>12.0</td>\n",
       "      <td>18.0</td>\n",
       "      <td>0</td>\n",
       "    </tr>\n",
       "    <tr>\n",
       "      <th>2</th>\n",
       "      <td>322764</td>\n",
       "      <td>RL</td>\n",
       "      <td>F</td>\n",
       "      <td>N</td>\n",
       "      <td>Y</td>\n",
       "      <td>0</td>\n",
       "      <td>135000</td>\n",
       "      <td>405000</td>\n",
       "      <td>20250</td>\n",
       "      <td>405000</td>\n",
       "      <td>...</td>\n",
       "      <td>NaN</td>\n",
       "      <td>NaN</td>\n",
       "      <td>NaN</td>\n",
       "      <td>NaN</td>\n",
       "      <td>NaN</td>\n",
       "      <td>NaN</td>\n",
       "      <td>NaN</td>\n",
       "      <td>NaN</td>\n",
       "      <td>NaN</td>\n",
       "      <td>0</td>\n",
       "    </tr>\n",
       "    <tr>\n",
       "      <th>3</th>\n",
       "      <td>345214</td>\n",
       "      <td>CL</td>\n",
       "      <td>F</td>\n",
       "      <td>N</td>\n",
       "      <td>Y</td>\n",
       "      <td>0</td>\n",
       "      <td>54900</td>\n",
       "      <td>110331</td>\n",
       "      <td>11588</td>\n",
       "      <td>103500</td>\n",
       "      <td>...</td>\n",
       "      <td>NaN</td>\n",
       "      <td>NaN</td>\n",
       "      <td>NaN</td>\n",
       "      <td>NaN</td>\n",
       "      <td>NaN</td>\n",
       "      <td>NaN</td>\n",
       "      <td>NaN</td>\n",
       "      <td>NaN</td>\n",
       "      <td>NaN</td>\n",
       "      <td>0</td>\n",
       "    </tr>\n",
       "    <tr>\n",
       "      <th>4</th>\n",
       "      <td>439392</td>\n",
       "      <td>RL</td>\n",
       "      <td>F</td>\n",
       "      <td>N</td>\n",
       "      <td>N</td>\n",
       "      <td>0</td>\n",
       "      <td>202500</td>\n",
       "      <td>1350000</td>\n",
       "      <td>67500</td>\n",
       "      <td>1350000</td>\n",
       "      <td>...</td>\n",
       "      <td>NaN</td>\n",
       "      <td>NaN</td>\n",
       "      <td>NaN</td>\n",
       "      <td>NaN</td>\n",
       "      <td>NaN</td>\n",
       "      <td>NaN</td>\n",
       "      <td>NaN</td>\n",
       "      <td>NaN</td>\n",
       "      <td>NaN</td>\n",
       "      <td>0</td>\n",
       "    </tr>\n",
       "  </tbody>\n",
       "</table>\n",
       "<p>5 rows × 74 columns</p>\n",
       "</div>"
      ],
      "text/plain": [
       "   appl_id loan_type gender own_car own_realty  tot_child  tot_income  \\\n",
       "0   339348        CL    F         N          N          0       81000   \n",
       "1   237809        CL    F         N          Y          0       90000   \n",
       "2   322764        RL    F         N          Y          0      135000   \n",
       "3   345214        CL    F         N          Y          0       54900   \n",
       "4   439392        RL    F         N          N          0      202500   \n",
       "\n",
       "    cr_amt  amt_annuity  goods_amt  ... elevator entrance floor_max floor_min  \\\n",
       "0   397881        20732     328500  ...      NaN      NaN       NaN       NaN   \n",
       "1   284400        16011     225000  ...    241.0    207.0     333.0     263.0   \n",
       "2   405000        20250     405000  ...      NaN      NaN       NaN       NaN   \n",
       "3   110331        11588     103500  ...      NaN      NaN       NaN       NaN   \n",
       "4  1350000        67500    1350000  ...      NaN      NaN       NaN       NaN   \n",
       "\n",
       "  land_area  l_apt  l_area  nonl_apt  nonl_area  target  \n",
       "0       NaN    NaN     NaN       NaN        NaN       0  \n",
       "1     148.0  180.0   157.0      12.0       18.0       0  \n",
       "2       NaN    NaN     NaN       NaN        NaN       0  \n",
       "3       NaN    NaN     NaN       NaN        NaN       0  \n",
       "4       NaN    NaN     NaN       NaN        NaN       0  \n",
       "\n",
       "[5 rows x 74 columns]"
      ]
     },
     "execution_count": 3,
     "metadata": {},
     "output_type": "execute_result"
    }
   ],
   "source": [
    "data.head()"
   ]
  },
  {
   "cell_type": "code",
   "execution_count": 4,
   "metadata": {},
   "outputs": [
    {
     "data": {
      "text/plain": [
       "CL    1572\n",
       "RL     898\n",
       "Name: loan_type, dtype: int64"
      ]
     },
     "execution_count": 4,
     "metadata": {},
     "output_type": "execute_result"
    }
   ],
   "source": [
    "data['loan_type'].value_counts()"
   ]
  },
  {
   "cell_type": "code",
   "execution_count": 15,
   "metadata": {},
   "outputs": [],
   "source": [
    "sc1 = data.cr_score1.dropna()\n",
    "sc2 = data.cr_score2.dropna()\n",
    "sc3 = data.cr_score3.dropna()\n",
    "credit_amount = data.cr_amt"
   ]
  },
  {
   "cell_type": "code",
   "execution_count": 7,
   "metadata": {},
   "outputs": [
    {
     "name": "stdout",
     "output_type": "stream",
     "text": [
      "count    977.000000\n",
      "mean       0.521095\n",
      "std        0.219273\n",
      "min        0.020000\n",
      "25%        0.350000\n",
      "50%        0.530000\n",
      "75%        0.700000\n",
      "max        0.940000\n",
      "Name: cr_score1, dtype: float64\n",
      "count    2452.000000\n",
      "mean        0.533230\n",
      "std         0.191198\n",
      "min         0.000000\n",
      "25%         0.420000\n",
      "50%         0.580000\n",
      "75%         0.690000\n",
      "max         0.850000\n",
      "Name: cr_score2, dtype: float64\n",
      "count    154.000000\n",
      "mean       0.706753\n",
      "std        0.180025\n",
      "min        0.070000\n",
      "25%        0.662500\n",
      "50%        0.785000\n",
      "75%        0.820000\n",
      "max        0.880000\n",
      "Name: cr_score3, dtype: float64\n"
     ]
    }
   ],
   "source": [
    "print(sc1.describe())\n",
    "print(sc2.describe())\n",
    "print(sc3.describe())"
   ]
  },
  {
   "cell_type": "code",
   "execution_count": 16,
   "metadata": {},
   "outputs": [
    {
     "data": {
      "text/plain": [
       "((0.9740753173828125, 3.425404491302908e-12),\n",
       " (0.9214766621589661, 5.782693848656544e-34),\n",
       " (0.7777631282806396, 5.216851527590355e-14),\n",
       " (0.8668100833892822, 1.2231934295091328e-41))"
      ]
     },
     "execution_count": 16,
     "metadata": {},
     "output_type": "execute_result"
    }
   ],
   "source": [
    "stats.shapiro(sc1), stats.shapiro(sc2), stats.shapiro(sc3) ,stats.shapiro(credit_amount)"
   ]
  },
  {
   "cell_type": "code",
   "execution_count": 9,
   "metadata": {},
   "outputs": [
    {
     "data": {
      "text/plain": [
       "LeveneResult(statistic=36.075221210401345, pvalue=3.079767928683528e-16)"
      ]
     },
     "execution_count": 9,
     "metadata": {},
     "output_type": "execute_result"
    }
   ],
   "source": [
    "stats.levene(sc1, sc2, sc3)\n"
   ]
  },
  {
   "cell_type": "code",
   "execution_count": 10,
   "metadata": {},
   "outputs": [
    {
     "name": "stdout",
     "output_type": "stream",
     "text": [
      "F statistic = 59.704 and probability p = 0.000\n"
     ]
    }
   ],
   "source": [
    "F, p = stats.f_oneway(sc1, sc2, sc3)\n",
    "print('F statistic = {:5.3f} and probability p = {:5.3f}'.format(F, p)) "
   ]
  },
  {
   "cell_type": "code",
   "execution_count": 11,
   "metadata": {},
   "outputs": [
    {
     "name": "stdout",
     "output_type": "stream",
     "text": [
      "sc1 vs sc2: -1.6069594044764297 0.10815539825413074\n",
      "sc2 vs sc3: -9.98883700985593 1.4278549114554467e-22\n",
      "sc2 vs sc3: -10.961249876779227 2.3028856246987466e-27\n"
     ]
    }
   ],
   "source": [
    "# apply ttest_indep()\n",
    "t, p = stats.ttest_ind(sc1, sc2)\n",
    "print('sc1 vs sc2:', t, p)\n",
    "\n",
    "t, p = stats.ttest_ind(sc1, sc3)\n",
    "print('sc2 vs sc3:', t, p)\n",
    "\n",
    "t, p = stats.ttest_ind(sc2, sc3)\n",
    "print('sc2 vs sc3:', t, p)"
   ]
  },
  {
   "cell_type": "code",
   "execution_count": 14,
   "metadata": {},
   "outputs": [],
   "source": []
  },
  {
   "cell_type": "code",
   "execution_count": null,
   "metadata": {},
   "outputs": [],
   "source": []
  }
 ],
 "metadata": {
  "kernelspec": {
   "display_name": "Python 3",
   "language": "python",
   "name": "python3"
  },
  "language_info": {
   "codemirror_mode": {
    "name": "ipython",
    "version": 3
   },
   "file_extension": ".py",
   "mimetype": "text/x-python",
   "name": "python",
   "nbconvert_exporter": "python",
   "pygments_lexer": "ipython3",
   "version": "3.7.3"
  }
 },
 "nbformat": 4,
 "nbformat_minor": 2
}
