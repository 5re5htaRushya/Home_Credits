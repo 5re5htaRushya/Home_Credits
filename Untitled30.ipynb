{
 "cells": [
  {
   "cell_type": "code",
   "execution_count": 9,
   "metadata": {},
   "outputs": [],
   "source": [
    "import pandas as pd\n",
    "import numpy as np\n",
    "import matplotlib.pyplot as plt\n",
    "import seaborn as sns\n",
    "from scipy import stats"
   ]
  },
  {
   "cell_type": "code",
   "execution_count": 2,
   "metadata": {},
   "outputs": [],
   "source": [
    "df = pd.read_csv('C:/Users/ZMHD022/Desktop/home_credit/TEST/creditbal.csv')"
   ]
  },
  {
   "cell_type": "code",
   "execution_count": 4,
   "metadata": {},
   "outputs": [
    {
     "data": {
      "text/plain": [
       "(3840312, 23)"
      ]
     },
     "execution_count": 4,
     "metadata": {},
     "output_type": "execute_result"
    }
   ],
   "source": [
    "df.shape"
   ]
  },
  {
   "cell_type": "code",
   "execution_count": 5,
   "metadata": {},
   "outputs": [
    {
     "data": {
      "text/plain": [
       "Index(['appl_id_prev', 'appl_id', 'bal_month', 'bal_amt', 'cr_limit_actual',\n",
       "       'dr_current_atm', 'dr_current', 'dr_current_other', 'dr_current_pos',\n",
       "       'inst_min_regularity_amt', 'cr_current', 'cr_current_tot',\n",
       "       'receivable_principal_amt', 'receivable_amt', 'receivable_total_amt',\n",
       "       'dr_current_atm_cnt', 'dr_current_cnt', 'dr_current_other_cnt',\n",
       "       'dr_current_pos_cnt', 'instalment_mature_cnt', 'contract_status', 'dpd',\n",
       "       'dpd_def'],\n",
       "      dtype='object')"
      ]
     },
     "execution_count": 5,
     "metadata": {},
     "output_type": "execute_result"
    }
   ],
   "source": [
    "df.columns"
   ]
  },
  {
   "cell_type": "code",
   "execution_count": 10,
   "metadata": {},
   "outputs": [
    {
     "data": {
      "image/png": "[encoded data removed]",
      "text/plain": [
       "<Figure size 432x288 with 1 Axes>"
      ]
     },
     "metadata": {
      "needs_background": "light"
     },
     "output_type": "display_data"
    }
   ],
   "source": [
    "boxplot = df.boxplot(['dr_current_atm', 'dr_current', 'dr_current_other', 'dr_current_pos']) "
   ]
  },
  {
   "cell_type": "code",
   "execution_count": 11,
   "metadata": {},
   "outputs": [
    {
     "data": {
      "image/png": "[encoded data removed]",
      "text/plain": [
       "<Figure size 432x288 with 1 Axes>"
      ]
     },
     "metadata": {
      "needs_background": "light"
     },
     "output_type": "display_data"
    }
   ],
   "source": [
    "boxplot = df.boxplot(['bal_amt', 'cr_limit_actual'])"
   ]
  },
  {
   "cell_type": "code",
   "execution_count": 12,
   "metadata": {},
   "outputs": [
    {
     "data": {
      "text/plain": [
       "0          SP \n",
       "1          SP \n",
       "2          SP \n",
       "3          SP \n",
       "4          SP \n",
       "5          SP \n",
       "6          SP \n",
       "7          SP \n",
       "8          SP \n",
       "9          SP \n",
       "10         SP \n",
       "11         SP \n",
       "12         SP \n",
       "13         SP \n",
       "14         SP \n",
       "15         SP \n",
       "16         SP \n",
       "17         SP \n",
       "18         SP \n",
       "19         SP \n",
       "20         SP \n",
       "21         SP \n",
       "22         SP \n",
       "23         SP \n",
       "24         SP \n",
       "25         SP \n",
       "26         SP \n",
       "27         SP \n",
       "28         SP \n",
       "29         SP \n",
       "          ... \n",
       "3840282    ACT\n",
       "3840283    ACT\n",
       "3840284    ACT\n",
       "3840285    COM\n",
       "3840286    ACT\n",
       "3840287    ACT\n",
       "3840288    ACT\n",
       "3840289    ACT\n",
       "3840290    ACT\n",
       "3840291    ACT\n",
       "3840292    ACT\n",
       "3840293    ACT\n",
       "3840294    ACT\n",
       "3840295    ACT\n",
       "3840296    ACT\n",
       "3840297    ACT\n",
       "3840298    ACT\n",
       "3840299    ACT\n",
       "3840300    ACT\n",
       "3840301    ACT\n",
       "3840302    ACT\n",
       "3840303    ACT\n",
       "3840304    COM\n",
       "3840305    ACT\n",
       "3840306    ACT\n",
       "3840307    ACT\n",
       "3840308    ACT\n",
       "3840309    ACT\n",
       "3840310    ACT\n",
       "3840311    ACT\n",
       "Name: contract_status, Length: 3840312, dtype: object"
      ]
     },
     "execution_count": 12,
     "metadata": {},
     "output_type": "execute_result"
    }
   ],
   "source": [
    "df.contract_status"
   ]
  },
  {
   "cell_type": "code",
   "execution_count": 13,
   "metadata": {},
   "outputs": [
    {
     "data": {
      "text/plain": [
       "ACT    3698436\n",
       "COM     128918\n",
       "SGN      11058\n",
       "DMD       1365\n",
       "SP         513\n",
       "RFD         17\n",
       "APD          5\n",
       "Name: contract_status, dtype: int64"
      ]
     },
     "execution_count": 13,
     "metadata": {},
     "output_type": "execute_result"
    }
   ],
   "source": [
    "df['contract_status'].value_counts()"
   ]
  },
  {
   "cell_type": "code",
   "execution_count": 15,
   "metadata": {},
   "outputs": [
    {
     "data": {
      "image/png": "[encoded data removed]",
      "text/plain": [
       "<Figure size 432x288 with 1 Axes>"
      ]
     },
     "metadata": {
      "needs_background": "light"
     },
     "output_type": "display_data"
    }
   ],
   "source": [
    "boxplot = df.boxplot(['cr_current','cr_current_tot'])"
   ]
  },
  {
   "cell_type": "code",
   "execution_count": 16,
   "metadata": {},
   "outputs": [
    {
     "data": {
      "image/png": "[encoded data removed]",
      "text/plain": [
       "<Figure size 432x288 with 1 Axes>"
      ]
     },
     "metadata": {
      "needs_background": "light"
     },
     "output_type": "display_data"
    }
   ],
   "source": [
    "boxplot = df.boxplot([ 'receivable_amt', 'receivable_total_amt'])"
   ]
  },
  {
   "cell_type": "code",
   "execution_count": null,
   "metadata": {},
   "outputs": [],
   "source": []
  }
 ],
 "metadata": {
  "kernelspec": {
   "display_name": "Python 3",
   "language": "python",
   "name": "python3"
  },
  "language_info": {
   "codemirror_mode": {
    "name": "ipython",
    "version": 3
   },
   "file_extension": ".py",
   "mimetype": "text/x-python",
   "name": "python",
   "nbconvert_exporter": "python",
   "pygments_lexer": "ipython3",
   "version": "3.7.3"
  }
 },
 "nbformat": 4,
 "nbformat_minor": 2
}
